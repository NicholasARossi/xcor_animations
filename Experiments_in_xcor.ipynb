{
 "cells": [
  {
   "cell_type": "code",
   "execution_count": 134,
   "metadata": {
    "collapsed": true
   },
   "outputs": [],
   "source": [
    "def Simplified_simulation(t_int,t_end,N,tau_x,tau_y,tau_z):\n",
    "    dt = float(t_end - t_int) / N\n",
    "\n",
    "    ### Initialize Matrix for all possible cells at all time points for all dimension of data (lets say we're not going to let it get more than 100)\n",
    "    Intrinsic_Noise = np.empty((N, 3))\n",
    "    Intrinsic_Noise[:,:]= np.NAN\n",
    "\n",
    "    Gene = np.empty((N, 3))\n",
    "    Gene[:,:]= np.NAN\n",
    "\n",
    "\n",
    "    g_y=.1\n",
    "    g_z=.1\n",
    "\n",
    "    lambda_x=(1.0 - np.exp(-dt / tau_x))\n",
    "\n",
    "    ### initializing values\n",
    "\n",
    "    cellular_indexes = np.array(range(100))\n",
    "    # for index in cellular_indexes:\n",
    "    Gene[0, 0] = 0\n",
    "    Gene[0, 1] = 0\n",
    "    Gene[0, 2] = 0\n",
    "\n",
    "    for t in np.arange(N-1)+1:\n",
    "        Gene[t,0] = Gene[t - 1,0] + dt * (-Gene[t - 1,0]/tau_x)+np.sqrt(2/tau_x)*np.random.normal(scale=np.sqrt(dt),loc=0.0)\n",
    "        Gene[t,1] = Gene[t - 1,1] + dt * (g_y*Gene[t - 1,0]-Gene[t - 1,1]/tau_y)+np.sqrt(2/tau_y)*np.random.normal(scale=np.sqrt(dt),loc=0.0)\n",
    "        Gene[t, 2] = Gene[t - 1,2] + dt * (g_z*Gene[t - 1,0]-Gene[t - 1,2]/tau_z)+np.sqrt(2/tau_z)*np.random.normal(loc=0.0,scale=np.sqrt(dt))\n",
    "    return Gene"
   ]
  },
  {
   "cell_type": "code",
   "execution_count": 216,
   "metadata": {
    "collapsed": true
   },
   "outputs": [],
   "source": [
    "def analytic_xcor_XY(t,tx,ty,gy):\n",
    "    values=np.zeros((len(t),1)).ravel()\n",
    "    tg0=t[t>0]\n",
    "    R_AA=np.sqrt(np.pi/2)*(1/(2*tx))\n",
    "    R_BB = (gy**2*ty**2*np.sqrt(np.pi/2))*((ty-tx)/(2*(ty**2-tx**2)))# maybe no 2x?0.0\n",
    "    NAB=1/np.sqrt(R_AA*R_BB)\n",
    "    values[t>0]=.5*gy*ty*np.sqrt(np.pi/2)*np.exp(-tg0/tx)/(tx+ty)\n",
    "    tl0 = t[t <= 0]\n",
    "    #normalization factors\n",
    "    # values[t <= 0]=gy*ty*np.sqrt(np.pi/2)*(2*ty*np.exp(tl0/tx)//(ty**2-tx**2))\n",
    "    values[t <= 0] =.5*gy*ty*np.sqrt(np.pi/2)*(((2*ty*np.exp(tl0/ty))/(ty**2-tx**2))-(np.exp(tl0/tx))/(ty-tx))\n",
    "    return values*NAB\n"
   ]
  },
  {
   "cell_type": "code",
   "execution_count": 210,
   "metadata": {
    "collapsed": false
   },
   "outputs": [
    {
     "data": {
      "text/plain": [
       "<matplotlib.text.Text at 0x118679e10>"
      ]
     },
     "execution_count": 210,
     "metadata": {},
     "output_type": "execute_result"
    }
   ],
   "source": [
    "import matplotlib.pyplot as plt\n",
    "import numpy as np\n",
    "import statsmodels.api as sm\n",
    "fig, ax1 = plt.subplots()\n",
    "\n",
    "t_end = 200000\n",
    "t_int = 0\n",
    "N = 400000\n",
    "dt = float(t_end - t_int) / N\n",
    "time_vect= np.arange(t_int, t_end, dt)\n",
    "tau_x=5.00000002/np.log(2)\n",
    "tau_y=30/np.log(2)\n",
    "tau_z=30.00001/np.log(2)\n",
    "\n",
    "\n",
    "# axes2 = [ax6, ax7, ax8, ax9, ax10]\n",
    "Gene = Simplified_simulation(t_int,t_end,N,tau_x,tau_y,tau_z)\n",
    "cc_storage1 = np.zeros((len(Gene[:, 0]) * 2, 1))\n",
    "cc_storage1[len(Gene[:, 0]):, 0] = sm.tsa.stattools.ccf(Gene[:, 0], Gene[:, 1])\n",
    "cc_storage1[0:len(Gene[:, 0]), 0] = sm.tsa.stattools.ccf(Gene[:, 1], Gene[:, 0])[::-1]\n"
   ]
  },
  {
   "cell_type": "code",
   "execution_count": null,
   "metadata": {
    "collapsed": true
   },
   "outputs": [],
   "source": []
  },
  {
   "cell_type": "code",
   "execution_count": 217,
   "metadata": {
    "collapsed": false
   },
   "outputs": [],
   "source": [
    "x_vect=np.linspace(-t_end,t_end,2*len(time_vect))\n",
    "ax1.scatter(x_vect,cc_storage1,label='X*Y',color='red')\n",
    "ax1.plot(x_vect,analytic_xcor_XY(x_vect,tau_x,tau_y,0.1),color='red')\n",
    "ax1.legend()\n",
    "ax1.set_xlim([-500,500])\n",
    "ax1.set_ylim([-.2,1.2])\n",
    "ax1.set_title('Cross Correlation')\n",
    "ax1.set_xlabel('Tau')\n",
    "\n",
    "fig.savefig('temp.png')"
   ]
  },
  {
   "cell_type": "code",
   "execution_count": 205,
   "metadata": {
    "collapsed": true
   },
   "outputs": [],
   "source": [
    "### creation of xcor calculation dataframe\n",
    "xcor_df=np.zeros((100,51))"
   ]
  },
  {
   "cell_type": "code",
   "execution_count": 206,
   "metadata": {
    "collapsed": false
   },
   "outputs": [],
   "source": [
    "simulation_range=np.linspace(500,50000,100)\n",
    "index_vals=np.linspace(-500,500,51)\n",
    "for z,value in enumerate(simulation_range):\n",
    "\n",
    "    t_end = int(value)\n",
    "    t_int = 0\n",
    "    N = int(value*2)\n",
    "    dt = float(t_end - t_int) / N\n",
    "    time_vect= np.arange(t_int, t_end, dt)\n",
    "    Gene = Simplified_simulation(t_int,t_end,N,tau_x,tau_y,tau_z)\n",
    "    cc_storage1 = np.zeros((len(Gene[:, 0]) * 2, 1))\n",
    "    cc_storage1[len(Gene[:, 0]):, 0] = sm.tsa.stattools.ccf(Gene[:, 0], Gene[:, 1])\n",
    "    cc_storage1[0:len(Gene[:, 0]), 0] = sm.tsa.stattools.ccf(Gene[:, 1], Gene[:, 0])[::-1]\n",
    "    x_vect=np.linspace(-t_end,t_end,2*len(time_vect))\n",
    "    f = interp1d(x_vect.ravel(), cc_storage1.ravel())\n",
    "    xcor_df[z,:]=f(index_vals)"
   ]
  },
  {
   "cell_type": "code",
   "execution_count": 226,
   "metadata": {
    "collapsed": false
   },
   "outputs": [
    {
     "ename": "AttributeError",
     "evalue": "'numpy.ndarray' object has no attribute 'plot'",
     "output_type": "error",
     "traceback": [
      "\u001b[0;31m---------------------------------------------------------------------------\u001b[0m",
      "\u001b[0;31mAttributeError\u001b[0m                            Traceback (most recent call last)",
      "\u001b[0;32m<ipython-input-226-6d2cef0d2f8e>\u001b[0m in \u001b[0;36m<module>\u001b[0;34m()\u001b[0m\n\u001b[1;32m      4\u001b[0m \u001b[0;34m\u001b[0m\u001b[0m\n\u001b[1;32m      5\u001b[0m \u001b[0;31m# ax2.scatter(index_vals,xcor_df[0,:])\u001b[0m\u001b[0;34m\u001b[0m\u001b[0;34m\u001b[0m\u001b[0m\n\u001b[0;32m----> 6\u001b[0;31m \u001b[0max2\u001b[0m\u001b[0;34m.\u001b[0m\u001b[0mplot\u001b[0m\u001b[0;34m(\u001b[0m\u001b[0mx_vect\u001b[0m\u001b[0;34m,\u001b[0m\u001b[0manalytic_xcor_XY\u001b[0m\u001b[0;34m(\u001b[0m\u001b[0mx_vect\u001b[0m\u001b[0;34m,\u001b[0m\u001b[0mtau_x\u001b[0m\u001b[0;34m,\u001b[0m\u001b[0mtau_y\u001b[0m\u001b[0;34m,\u001b[0m\u001b[0;36m0.1\u001b[0m\u001b[0;34m)\u001b[0m\u001b[0;34m,\u001b[0m\u001b[0mlinewidth\u001b[0m\u001b[0;34m=\u001b[0m\u001b[0;36m3\u001b[0m\u001b[0;34m,\u001b[0m\u001b[0mcolor\u001b[0m\u001b[0;34m=\u001b[0m\u001b[0;34m'red'\u001b[0m\u001b[0;34m)\u001b[0m\u001b[0;34m\u001b[0m\u001b[0m\n\u001b[0m\u001b[1;32m      7\u001b[0m \u001b[0max2\u001b[0m\u001b[0;34m.\u001b[0m\u001b[0mset_xlim\u001b[0m\u001b[0;34m(\u001b[0m\u001b[0;34m[\u001b[0m\u001b[0;34m-\u001b[0m\u001b[0;36m500\u001b[0m\u001b[0;34m,\u001b[0m\u001b[0;36m500\u001b[0m\u001b[0;34m]\u001b[0m\u001b[0;34m)\u001b[0m\u001b[0;34m\u001b[0m\u001b[0m\n\u001b[1;32m      8\u001b[0m \u001b[0max2\u001b[0m\u001b[0;34m.\u001b[0m\u001b[0mset_ylim\u001b[0m\u001b[0;34m(\u001b[0m\u001b[0;34m[\u001b[0m\u001b[0;34m-\u001b[0m\u001b[0;36m.2\u001b[0m\u001b[0;34m,\u001b[0m\u001b[0;36m1.2\u001b[0m\u001b[0;34m]\u001b[0m\u001b[0;34m)\u001b[0m\u001b[0;34m\u001b[0m\u001b[0m\n",
      "\u001b[0;31mAttributeError\u001b[0m: 'numpy.ndarray' object has no attribute 'plot'"
     ]
    }
   ],
   "source": [
    "from IPython.display import HTML\n",
    "from matplotlib import animation, rc\n",
    "fig2,(ax2,ax3) = plt.subplots(1,2)\n",
    "\n",
    "# ax2.scatter(index_vals,xcor_df[0,:])\n",
    "ax2.plot(x_vect,analytic_xcor_XY(x_vect,tau_x,tau_y,0.1),linewidth=3,color='red')\n",
    "ax2.set_xlim([-500,500])\n",
    "ax2.set_ylim([-.2,1.2])\n",
    "dots = ax2.plot([],[],color='blue',linestyle='none',marker='o',label='X')\n",
    "timetext=ax2.text(0.5,50,'')\n",
    "index_vals=np.linspace(-500,500,51)\n",
    "def init():\n",
    "#     data=np.hstack((index_vals[:],xcor_df[0,:]))\n",
    "    dots[0].set_data(index_vals[:],xcor_df[0,:])\n",
    "\n",
    "\n",
    "def animate(i):\n",
    "#     data=np.hstack((index_vals[:],xcor_df[i,:]))\n",
    "    dots[0].set_data(index_vals[:],xcor_df[i,:])\n",
    "    timetext.set_text(str(simulation_range[i]))\n",
    "    return dots\n",
    "\n",
    "    \n",
    "\n",
    "# call the animator. blit=True means only re-draw the parts that have changed.\n",
    "anim = animation.FuncAnimation(fig2, animate,init_func=init,\n",
    "                               frames=100, interval=500, blit=False)\n",
    "HTML(anim.to_html5_video())"
   ]
  },
  {
   "cell_type": "code",
   "execution_count": null,
   "metadata": {
    "collapsed": false
   },
   "outputs": [],
   "source": [
    "\n"
   ]
  },
  {
   "cell_type": "code",
   "execution_count": null,
   "metadata": {
    "collapsed": true
   },
   "outputs": [],
   "source": []
  }
 ],
 "metadata": {
  "anaconda-cloud": {},
  "kernelspec": {
   "display_name": "Python [conda root]",
   "language": "python",
   "name": "conda-root-py"
  },
  "language_info": {
   "codemirror_mode": {
    "name": "ipython",
    "version": 3
   },
   "file_extension": ".py",
   "mimetype": "text/x-python",
   "name": "python",
   "nbconvert_exporter": "python",
   "pygments_lexer": "ipython3",
   "version": "3.5.2"
  }
 },
 "nbformat": 4,
 "nbformat_minor": 1
}
