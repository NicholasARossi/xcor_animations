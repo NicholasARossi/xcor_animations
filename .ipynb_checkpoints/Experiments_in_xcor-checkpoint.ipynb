{
 "cells": [
  {
   "cell_type": "code",
   "execution_count": 134,
   "metadata": {
    "collapsed": true
   },
   "outputs": [],
   "source": [
    "def Simplified_simulation(t_int,t_end,N,tau_x,tau_y,tau_z):\n",
    "    dt = float(t_end - t_int) / N\n",
    "\n",
    "    ### Initialize Matrix for all possible cells at all time points for all dimension of data (lets say we're not going to let it get more than 100)\n",
    "    Intrinsic_Noise = np.empty((N, 3))\n",
    "    Intrinsic_Noise[:,:]= np.NAN\n",
    "\n",
    "    Gene = np.empty((N, 3))\n",
    "    Gene[:,:]= np.NAN\n",
    "\n",
    "\n",
    "    g_y=.1\n",
    "    g_z=.1\n",
    "\n",
    "    lambda_x=(1.0 - np.exp(-dt / tau_x))\n",
    "\n",
    "    ### initializing values\n",
    "\n",
    "    cellular_indexes = np.array(range(100))\n",
    "    # for index in cellular_indexes:\n",
    "    Gene[0, 0] = 0\n",
    "    Gene[0, 1] = 0\n",
    "    Gene[0, 2] = 0\n",
    "\n",
    "    for t in np.arange(N-1)+1:\n",
    "        Gene[t,0] = Gene[t - 1,0] + dt * (-Gene[t - 1,0]/tau_x)+np.sqrt(2/tau_x)*np.random.normal(scale=np.sqrt(dt),loc=0.0)\n",
    "        Gene[t,1] = Gene[t - 1,1] + dt * (g_y*Gene[t - 1,0]-Gene[t - 1,1]/tau_y)+np.sqrt(2/tau_y)*np.random.normal(scale=np.sqrt(dt),loc=0.0)\n",
    "        Gene[t, 2] = Gene[t - 1,2] + dt * (g_z*Gene[t - 1,0]-Gene[t - 1,2]/tau_z)+np.sqrt(2/tau_z)*np.random.normal(loc=0.0,scale=np.sqrt(dt))\n",
    "    return Gene"
   ]
  },
  {
   "cell_type": "code",
   "execution_count": 135,
   "metadata": {
    "collapsed": true
   },
   "outputs": [],
   "source": [
    "def analytic_xcor_XY(t,tx,ty,gy):\n",
    "    values=np.zeros((len(t),1)).ravel()\n",
    "    tg0=t[t>0]\n",
    "    R_AA=np.sqrt(np.pi/2)*(1/(2*tx))\n",
    "    R_BB = (gy**2*ty**2*np.sqrt(np.pi/2))*((ty-tx)/(2*(ty**2-tx**2)))# maybe no 2x?0.0\n",
    "    NAB=1/np.sqrt(R_AA*R_BB)\n",
    "    values[t>0]=.5*gy*ty*np.sqrt(np.pi/2)*np.exp(-tg0/tx)/(tx+ty)\n",
    "    tl0 = t[t <= 0]\n",
    "    #normalization factors\n",
    "    # values[t <= 0]=gy*ty*np.sqrt(np.pi/2)*(2*ty*np.exp(tl0/tx)//(ty**2-tx**2))\n",
    "    values[t <= 0] =.5*gy*ty*np.sqrt(np.pi/2)*(((2*ty*np.exp(tl0/ty))/(ty**2-tx**2))-(np.exp(tl0/tx))/(ty-tx))\n",
    "    return values*NAB"
   ]
  },
  {
   "cell_type": "code",
   "execution_count": 136,
   "metadata": {
    "collapsed": false
   },
   "outputs": [
    {
     "data": {
      "text/plain": [
       "<matplotlib.text.Text at 0x116e11588>"
      ]
     },
     "execution_count": 136,
     "metadata": {},
     "output_type": "execute_result"
    }
   ],
   "source": [
    "import matplotlib.pyplot as plt\n",
    "import numpy as np\n",
    "import statsmodels.api as sm\n",
    "fig, ax1 = plt.subplots()\n",
    "\n",
    "t_end = 2000\n",
    "t_int = 0\n",
    "N = 4000\n",
    "dt = float(t_end - t_int) / N\n",
    "time_vect= np.arange(t_int, t_end, dt)\n",
    "tau_x=5.00000002/np.log(2)\n",
    "tau_y=30/np.log(2)\n",
    "tau_z=30.00001/np.log(2)\n",
    "\n",
    "\n",
    "# axes2 = [ax6, ax7, ax8, ax9, ax10]\n",
    "Gene = Simplified_simulation(t_int,t_end,N,tau_x,tau_y,tau_z)\n",
    "cc_storage1 = np.zeros((len(Gene[:, 0]) * 2, 1))\n",
    "cc_storage1[len(Gene[:, 0]):, 0] = sm.tsa.stattools.ccf(Gene[:, 0], Gene[:, 1])\n",
    "cc_storage1[0:len(Gene[:, 0]), 0] = sm.tsa.stattools.ccf(Gene[:, 1], Gene[:, 0])[::-1]\n",
    "x_vect=np.linspace(-t_end,t_end,2*len(time_vect))\n",
    "ax1.scatter(x_vect[0::int(N/1000)],cc_storage1[0::int(N/1000)],label='X*Y',color='red')\n",
    "ax1.plot(x_vect,analytic_xcor_XY(x_vect,tau_x,tau_y,0.1),color='red')\n",
    "ax1.legend()\n",
    "ax1.set_xlim([-500,500])\n",
    "ax1.set_ylim([-.2,1.2])\n",
    "ax1.set_title('Cross Correlation')\n",
    "ax1.set_xlabel('Tau')\n"
   ]
  },
  {
   "cell_type": "code",
   "execution_count": 137,
   "metadata": {
    "collapsed": false
   },
   "outputs": [],
   "source": [
    "#Now we generate the data frame\n",
    "index_vals=np.linspace(-500,500,51)\n",
    "from scipy.interpolate import interp1d\n",
    "\n",
    "\n",
    "f = interp1d(x_vect.ravel(), cc_storage1.ravel())\n"
   ]
  },
  {
   "cell_type": "code",
   "execution_count": 138,
   "metadata": {
    "collapsed": false
   },
   "outputs": [
    {
     "data": {
      "text/plain": [
       "<matplotlib.collections.PathCollection at 0x1075ec320>"
      ]
     },
     "execution_count": 138,
     "metadata": {},
     "output_type": "execute_result"
    }
   ],
   "source": [
    "ax1.scatter(index_vals,f(index_vals))\n"
   ]
  },
  {
   "cell_type": "code",
   "execution_count": 139,
   "metadata": {
    "collapsed": false
   },
   "outputs": [
    {
     "data": {
      "image/png": "[encoded data removed]",
      "text/plain": [
       "<matplotlib.figure.Figure at 0x116dfdac8>"
      ]
     },
     "metadata": {},
     "output_type": "display_data"
    }
   ],
   "source": [
    "plt.show()"
   ]
  },
  {
   "cell_type": "code",
   "execution_count": 140,
   "metadata": {
    "collapsed": true
   },
   "outputs": [],
   "source": [
    "### creation of xcor calculation dataframe\n",
    "xcor_df=np.zeros((10,51))"
   ]
  },
  {
   "cell_type": "code",
   "execution_count": 144,
   "metadata": {
    "collapsed": false
   },
   "outputs": [],
   "source": [
    "simulation_range=np.linspace(1000,100000,10)\n",
    "index_vals=np.linspace(-500,500,51)\n",
    "for z,value in enumerate(simulation_range):\n",
    "\n",
    "    t_end = int(value)\n",
    "    t_int = 0\n",
    "    N = int(value*2)\n",
    "    dt = float(t_end - t_int) / N\n",
    "    time_vect= np.arange(t_int, t_end, dt)\n",
    "    Gene = Simplified_simulation(t_int,t_end,N,tau_x,tau_y,tau_z)\n",
    "    cc_storage1 = np.zeros((len(Gene[:, 0]) * 2, 1))\n",
    "    cc_storage1[len(Gene[:, 0]):, 0] = sm.tsa.stattools.ccf(Gene[:, 0], Gene[:, 1])\n",
    "    cc_storage1[0:len(Gene[:, 0]), 0] = sm.tsa.stattools.ccf(Gene[:, 1], Gene[:, 0])[::-1]\n",
    "    x_vect=np.linspace(-t_end,t_end,2*len(time_vect))\n",
    "    f = interp1d(x_vect.ravel(), cc_storage1.ravel())\n",
    "    xcor_df[z,:]=f(index_vals)"
   ]
  },
  {
   "cell_type": "code",
   "execution_count": 146,
   "metadata": {
    "collapsed": false
   },
   "outputs": [
    {
     "data": {
      "text/plain": [
       "[<matplotlib.lines.Line2D at 0x118a2ac88>]"
      ]
     },
     "execution_count": 146,
     "metadata": {},
     "output_type": "execute_result"
    }
   ],
   "source": [
    "\n",
    "fig1 = plt.figure(1)\n",
    "ax2 = fig1.add_subplot(111, aspect='equal')\n",
    "ax2.scatter(index_vals,xcor_df[0,:])\n",
    "ax2.plot(x_vect,analytic_xcor_XY(x_vect,tau_x,tau_y,0.1),linewidth=2,color='red')\n"
   ]
  },
  {
   "cell_type": "code",
   "execution_count": null,
   "metadata": {
    "collapsed": true
   },
   "outputs": [],
   "source": []
  }
 ],
 "metadata": {
  "anaconda-cloud": {},
  "kernelspec": {
   "display_name": "Python [conda root]",
   "language": "python",
   "name": "conda-root-py"
  },
  "language_info": {
   "codemirror_mode": {
    "name": "ipython",
    "version": 3
   },
   "file_extension": ".py",
   "mimetype": "text/x-python",
   "name": "python",
   "nbconvert_exporter": "python",
   "pygments_lexer": "ipython3",
   "version": "3.5.2"
  }
 },
 "nbformat": 4,
 "nbformat_minor": 1
}
